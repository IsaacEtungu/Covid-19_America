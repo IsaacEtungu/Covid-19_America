{
 "cells": [
  {
   "cell_type": "markdown",
   "id": "attempted-repeat",
   "metadata": {},
   "source": [
    "# IS 508 PROJECT & ORGANIZATION CHANGE MANAGEMENT"
   ]
  },
  {
   "cell_type": "markdown",
   "id": "material-wrong",
   "metadata": {},
   "source": [
    "# Isaac Etungu\n",
    "\n",
    "<b>M21/MIT/742U</b>"
   ]
  },
  {
   "cell_type": "markdown",
   "id": "similar-change",
   "metadata": {},
   "source": [
    "In this test, I'll will design a model to predict the number of deaths due to covid-19 \n",
    "Pandemic in America. \n",
    "\n",
    "My focus will be predicting daily deaths using simple & multiple linear regressions with respect to R-Squared & RMSE performance evaluation metrices\n",
    "\n",
    "Data set from URL: https://covid19.who.int/table <b>As at: July 10th 2021 at 6.11.42 PM.csv<b/>"
   ]
  },
  {
   "cell_type": "markdown",
   "id": "higher-freeware",
   "metadata": {},
   "source": [
    "<b>Importing libraries</b>"
   ]
  },
  {
   "cell_type": "code",
   "execution_count": 1,
   "id": "written-morning",
   "metadata": {},
   "outputs": [
    {
     "name": "stdout",
     "output_type": "stream",
     "text": [
      "Requirement already satisfied: seaborn in /srv/conda/envs/notebook/lib/python3.6/site-packages (0.11.1)\n",
      "Requirement already satisfied: scipy>=1.0 in /srv/conda/envs/notebook/lib/python3.6/site-packages (from seaborn) (1.5.3)\n",
      "Requirement already satisfied: numpy>=1.15 in /srv/conda/envs/notebook/lib/python3.6/site-packages (from seaborn) (1.19.5)\n",
      "Requirement already satisfied: matplotlib>=2.2 in /srv/conda/envs/notebook/lib/python3.6/site-packages (from seaborn) (3.3.4)\n",
      "Requirement already satisfied: pandas>=0.23 in /srv/conda/envs/notebook/lib/python3.6/site-packages (from seaborn) (1.1.5)\n",
      "Requirement already satisfied: cycler>=0.10 in /srv/conda/envs/notebook/lib/python3.6/site-packages/cycler-0.10.0-py3.6.egg (from matplotlib>=2.2->seaborn) (0.10.0)\n",
      "Requirement already satisfied: pyparsing!=2.0.4,!=2.1.2,!=2.1.6,>=2.0.3 in /srv/conda/envs/notebook/lib/python3.6/site-packages (from matplotlib>=2.2->seaborn) (2.4.7)\n",
      "Requirement already satisfied: pillow>=6.2.0 in /srv/conda/envs/notebook/lib/python3.6/site-packages (from matplotlib>=2.2->seaborn) (8.2.0)\n",
      "Requirement already satisfied: python-dateutil>=2.1 in /srv/conda/envs/notebook/lib/python3.6/site-packages (from matplotlib>=2.2->seaborn) (2.8.1)\n",
      "Requirement already satisfied: kiwisolver>=1.0.1 in /srv/conda/envs/notebook/lib/python3.6/site-packages (from matplotlib>=2.2->seaborn) (1.3.1)\n",
      "Requirement already satisfied: six in /srv/conda/envs/notebook/lib/python3.6/site-packages (from cycler>=0.10->matplotlib>=2.2->seaborn) (1.15.0)\n",
      "Requirement already satisfied: pytz>=2017.2 in /srv/conda/envs/notebook/lib/python3.6/site-packages (from pandas>=0.23->seaborn) (2021.1)\n"
     ]
    }
   ],
   "source": [
    "!pip install seaborn\n",
    "import pandas as pd\n",
    "import matplotlib.pyplot as plt\n",
    "import numpy as np\n",
    "import seaborn as sns\n",
    "%matplotlib inline"
   ]
  },
  {
   "cell_type": "markdown",
   "id": "entertaining-elimination",
   "metadata": {},
   "source": [
    "<b>Loading the data set</b>"
   ]
  },
  {
   "cell_type": "code",
   "execution_count": 31,
   "id": "bridal-christmas",
   "metadata": {},
   "outputs": [
    {
     "data": {
      "text/html": [
       "<div>\n",
       "<style scoped>\n",
       "    .dataframe tbody tr th:only-of-type {\n",
       "        vertical-align: middle;\n",
       "    }\n",
       "\n",
       "    .dataframe tbody tr th {\n",
       "        vertical-align: top;\n",
       "    }\n",
       "\n",
       "    .dataframe thead th {\n",
       "        text-align: right;\n",
       "    }\n",
       "</style>\n",
       "<table border=\"1\" class=\"dataframe\">\n",
       "  <thead>\n",
       "    <tr style=\"text-align: right;\">\n",
       "      <th></th>\n",
       "      <th>Name</th>\n",
       "      <th>WHO Region</th>\n",
       "      <th>Cases - cumulative total</th>\n",
       "      <th>Cases - cumulative total per 100000 population</th>\n",
       "      <th>Cases - newly reported in last 7 days</th>\n",
       "      <th>Cases - newly reported in last 7 days per 100000 population</th>\n",
       "      <th>Cases - newly reported in last 24 hours</th>\n",
       "      <th>Deaths - cumulative total</th>\n",
       "      <th>Deaths - cumulative total per 100000 population</th>\n",
       "      <th>Deaths - newly reported in last 7 days</th>\n",
       "      <th>Deaths - newly reported in last 7 days per 100000 population</th>\n",
       "      <th>Deaths - newly reported in last 24 hours</th>\n",
       "      <th>Transmission Classification</th>\n",
       "    </tr>\n",
       "  </thead>\n",
       "  <tbody>\n",
       "    <tr>\n",
       "      <th>1</th>\n",
       "      <td>United States of America</td>\n",
       "      <td>Americas</td>\n",
       "      <td>33451965</td>\n",
       "      <td>10106.25</td>\n",
       "      <td>108004</td>\n",
       "      <td>32.63</td>\n",
       "      <td>22569</td>\n",
       "      <td>601231</td>\n",
       "      <td>181.64</td>\n",
       "      <td>1551</td>\n",
       "      <td>0.47</td>\n",
       "      <td>301</td>\n",
       "      <td>Community transmission</td>\n",
       "    </tr>\n",
       "    <tr>\n",
       "      <th>3</th>\n",
       "      <td>Brazil</td>\n",
       "      <td>Americas</td>\n",
       "      <td>18909037</td>\n",
       "      <td>8895.88</td>\n",
       "      <td>351896</td>\n",
       "      <td>165.55</td>\n",
       "      <td>54022</td>\n",
       "      <td>528540</td>\n",
       "      <td>248.66</td>\n",
       "      <td>10474</td>\n",
       "      <td>4.93</td>\n",
       "      <td>1648</td>\n",
       "      <td>Community transmission</td>\n",
       "    </tr>\n",
       "    <tr>\n",
       "      <th>8</th>\n",
       "      <td>Argentina</td>\n",
       "      <td>Americas</td>\n",
       "      <td>4593763</td>\n",
       "      <td>10164.14</td>\n",
       "      <td>123389</td>\n",
       "      <td>273.01</td>\n",
       "      <td>19423</td>\n",
       "      <td>97439</td>\n",
       "      <td>215.59</td>\n",
       "      <td>3135</td>\n",
       "      <td>6.94</td>\n",
       "      <td>456</td>\n",
       "      <td>Community transmission</td>\n",
       "    </tr>\n",
       "    <tr>\n",
       "      <th>9</th>\n",
       "      <td>Colombia</td>\n",
       "      <td>Americas</td>\n",
       "      <td>4426811</td>\n",
       "      <td>8700.00</td>\n",
       "      <td>185829</td>\n",
       "      <td>365.21</td>\n",
       "      <td>24229</td>\n",
       "      <td>110578</td>\n",
       "      <td>217.32</td>\n",
       "      <td>4034</td>\n",
       "      <td>7.93</td>\n",
       "      <td>559</td>\n",
       "      <td>Community transmission</td>\n",
       "    </tr>\n",
       "    <tr>\n",
       "      <th>15</th>\n",
       "      <td>Mexico</td>\n",
       "      <td>Americas</td>\n",
       "      <td>2558369</td>\n",
       "      <td>1984.27</td>\n",
       "      <td>39100</td>\n",
       "      <td>30.33</td>\n",
       "      <td>8507</td>\n",
       "      <td>234192</td>\n",
       "      <td>181.64</td>\n",
       "      <td>1145</td>\n",
       "      <td>0.89</td>\n",
       "      <td>234</td>\n",
       "      <td>Community transmission</td>\n",
       "    </tr>\n",
       "  </tbody>\n",
       "</table>\n",
       "</div>"
      ],
      "text/plain": [
       "                        Name WHO Region  Cases - cumulative total  \\\n",
       "1   United States of America   Americas                  33451965   \n",
       "3                     Brazil   Americas                  18909037   \n",
       "8                  Argentina   Americas                   4593763   \n",
       "9                   Colombia   Americas                   4426811   \n",
       "15                    Mexico   Americas                   2558369   \n",
       "\n",
       "    Cases - cumulative total per 100000 population  \\\n",
       "1                                         10106.25   \n",
       "3                                          8895.88   \n",
       "8                                         10164.14   \n",
       "9                                          8700.00   \n",
       "15                                         1984.27   \n",
       "\n",
       "    Cases - newly reported in last 7 days  \\\n",
       "1                                  108004   \n",
       "3                                  351896   \n",
       "8                                  123389   \n",
       "9                                  185829   \n",
       "15                                  39100   \n",
       "\n",
       "    Cases - newly reported in last 7 days per 100000 population  \\\n",
       "1                                               32.63             \n",
       "3                                              165.55             \n",
       "8                                              273.01             \n",
       "9                                              365.21             \n",
       "15                                              30.33             \n",
       "\n",
       "    Cases - newly reported in last 24 hours  Deaths - cumulative total  \\\n",
       "1                                     22569                     601231   \n",
       "3                                     54022                     528540   \n",
       "8                                     19423                      97439   \n",
       "9                                     24229                     110578   \n",
       "15                                     8507                     234192   \n",
       "\n",
       "    Deaths - cumulative total per 100000 population  \\\n",
       "1                                            181.64   \n",
       "3                                            248.66   \n",
       "8                                            215.59   \n",
       "9                                            217.32   \n",
       "15                                           181.64   \n",
       "\n",
       "    Deaths - newly reported in last 7 days  \\\n",
       "1                                     1551   \n",
       "3                                    10474   \n",
       "8                                     3135   \n",
       "9                                     4034   \n",
       "15                                    1145   \n",
       "\n",
       "    Deaths - newly reported in last 7 days per 100000 population  \\\n",
       "1                                                0.47              \n",
       "3                                                4.93              \n",
       "8                                                6.94              \n",
       "9                                                7.93              \n",
       "15                                               0.89              \n",
       "\n",
       "    Deaths - newly reported in last 24 hours Transmission Classification  \n",
       "1                                        301      Community transmission  \n",
       "3                                       1648      Community transmission  \n",
       "8                                        456      Community transmission  \n",
       "9                                        559      Community transmission  \n",
       "15                                       234      Community transmission  "
      ]
     },
     "execution_count": 31,
     "metadata": {},
     "output_type": "execute_result"
    }
   ],
   "source": [
    "file=pd.read_csv(\"WHO COVID-19 global table data July 10th 2021 at 6.11.42 PM.csv\",sep=\",\")#This has global regions\n",
    "new_df = file.loc[(file['WHO Region'] == 'Americas')]#Reads only for America region\n",
    "new_df.head()#preview first five rows"
   ]
  },
  {
   "cell_type": "markdown",
   "id": "signal-warrant",
   "metadata": {},
   "source": [
    "<b>Renaming columns</b>"
   ]
  },
  {
   "cell_type": "code",
   "execution_count": 34,
   "id": "adolescent-instrumentation",
   "metadata": {},
   "outputs": [
    {
     "name": "stderr",
     "output_type": "stream",
     "text": [
      "/srv/conda/envs/notebook/lib/python3.6/site-packages/pandas/core/frame.py:4308: SettingWithCopyWarning: \n",
      "A value is trying to be set on a copy of a slice from a DataFrame\n",
      "\n",
      "See the caveats in the documentation: https://pandas.pydata.org/pandas-docs/stable/user_guide/indexing.html#returning-a-view-versus-a-copy\n",
      "  errors=errors,\n"
     ]
    }
   ],
   "source": [
    "#to make them easy to undertand' \n",
    "new_df.rename(columns = {'Name':'Country','Cases - cumulative total':'Cases(Cum.Total)', \n",
    "                         'Cases - cumulative total per 100000 population':'Cases(Cum.Total)per 100000 population', \n",
    "                         'Cases - newly reported in last 7 days':'Cases(last 7 days)', \n",
    "                         'Cases - newly reported in last 7 days per 100000 population':'Cases(last 7 days)per 100000 population', \n",
    "                         'Cases - newly reported in last 24 hours':'Cases(last 24 hours)', \n",
    "                         'Deaths - cumulative total':'Deaths(Cum.Total)','Deaths - cumulative total per 100000 population':\n",
    "                         'Deaths(Cum.Total) per 100000 population', 'Deaths reported in last 7 days':\n",
    "                         'Deaths(last 7 days)','Deaths - newly reported in last 7 days per 100000 population':\n",
    "                         'Deaths(last 7 days)per 100000 population','Deaths - newly reported in last 24 hours':\n",
    "                         'Deaths(last 24 hours)'}, inplace = True)\n"
   ]
  },
  {
   "cell_type": "code",
   "execution_count": 35,
   "id": "important-thing",
   "metadata": {},
   "outputs": [
    {
     "data": {
      "text/html": [
       "<div>\n",
       "<style scoped>\n",
       "    .dataframe tbody tr th:only-of-type {\n",
       "        vertical-align: middle;\n",
       "    }\n",
       "\n",
       "    .dataframe tbody tr th {\n",
       "        vertical-align: top;\n",
       "    }\n",
       "\n",
       "    .dataframe thead th {\n",
       "        text-align: right;\n",
       "    }\n",
       "</style>\n",
       "<table border=\"1\" class=\"dataframe\">\n",
       "  <thead>\n",
       "    <tr style=\"text-align: right;\">\n",
       "      <th></th>\n",
       "      <th>Country</th>\n",
       "      <th>WHO Region</th>\n",
       "      <th>Cases(Cum.Total)</th>\n",
       "      <th>Cases(Cum.Total)per 100000 population</th>\n",
       "      <th>Cases(last 7 days)</th>\n",
       "      <th>Cases(last 7 days)per 100000 population</th>\n",
       "      <th>Cases(last 24 hours)</th>\n",
       "      <th>Deaths(Cum.Total)</th>\n",
       "      <th>Deaths(Cum.Total) per 100000 population</th>\n",
       "      <th>Deaths - newly reported in last 7 days</th>\n",
       "      <th>Deaths(last 7 days)per 100000 population</th>\n",
       "      <th>Deaths(last 24 hours)</th>\n",
       "      <th>Transmission Classification</th>\n",
       "    </tr>\n",
       "  </thead>\n",
       "  <tbody>\n",
       "    <tr>\n",
       "      <th>1</th>\n",
       "      <td>United States of America</td>\n",
       "      <td>Americas</td>\n",
       "      <td>33451965</td>\n",
       "      <td>10106.25</td>\n",
       "      <td>108004</td>\n",
       "      <td>32.63</td>\n",
       "      <td>22569</td>\n",
       "      <td>601231</td>\n",
       "      <td>181.64</td>\n",
       "      <td>1551</td>\n",
       "      <td>0.47</td>\n",
       "      <td>301</td>\n",
       "      <td>Community transmission</td>\n",
       "    </tr>\n",
       "    <tr>\n",
       "      <th>3</th>\n",
       "      <td>Brazil</td>\n",
       "      <td>Americas</td>\n",
       "      <td>18909037</td>\n",
       "      <td>8895.88</td>\n",
       "      <td>351896</td>\n",
       "      <td>165.55</td>\n",
       "      <td>54022</td>\n",
       "      <td>528540</td>\n",
       "      <td>248.66</td>\n",
       "      <td>10474</td>\n",
       "      <td>4.93</td>\n",
       "      <td>1648</td>\n",
       "      <td>Community transmission</td>\n",
       "    </tr>\n",
       "    <tr>\n",
       "      <th>8</th>\n",
       "      <td>Argentina</td>\n",
       "      <td>Americas</td>\n",
       "      <td>4593763</td>\n",
       "      <td>10164.14</td>\n",
       "      <td>123389</td>\n",
       "      <td>273.01</td>\n",
       "      <td>19423</td>\n",
       "      <td>97439</td>\n",
       "      <td>215.59</td>\n",
       "      <td>3135</td>\n",
       "      <td>6.94</td>\n",
       "      <td>456</td>\n",
       "      <td>Community transmission</td>\n",
       "    </tr>\n",
       "    <tr>\n",
       "      <th>9</th>\n",
       "      <td>Colombia</td>\n",
       "      <td>Americas</td>\n",
       "      <td>4426811</td>\n",
       "      <td>8700.00</td>\n",
       "      <td>185829</td>\n",
       "      <td>365.21</td>\n",
       "      <td>24229</td>\n",
       "      <td>110578</td>\n",
       "      <td>217.32</td>\n",
       "      <td>4034</td>\n",
       "      <td>7.93</td>\n",
       "      <td>559</td>\n",
       "      <td>Community transmission</td>\n",
       "    </tr>\n",
       "    <tr>\n",
       "      <th>15</th>\n",
       "      <td>Mexico</td>\n",
       "      <td>Americas</td>\n",
       "      <td>2558369</td>\n",
       "      <td>1984.27</td>\n",
       "      <td>39100</td>\n",
       "      <td>30.33</td>\n",
       "      <td>8507</td>\n",
       "      <td>234192</td>\n",
       "      <td>181.64</td>\n",
       "      <td>1145</td>\n",
       "      <td>0.89</td>\n",
       "      <td>234</td>\n",
       "      <td>Community transmission</td>\n",
       "    </tr>\n",
       "  </tbody>\n",
       "</table>\n",
       "</div>"
      ],
      "text/plain": [
       "                     Country WHO Region  Cases(Cum.Total)  \\\n",
       "1   United States of America   Americas          33451965   \n",
       "3                     Brazil   Americas          18909037   \n",
       "8                  Argentina   Americas           4593763   \n",
       "9                   Colombia   Americas           4426811   \n",
       "15                    Mexico   Americas           2558369   \n",
       "\n",
       "    Cases(Cum.Total)per 100000 population  Cases(last 7 days)  \\\n",
       "1                                10106.25              108004   \n",
       "3                                 8895.88              351896   \n",
       "8                                10164.14              123389   \n",
       "9                                 8700.00              185829   \n",
       "15                                1984.27               39100   \n",
       "\n",
       "    Cases(last 7 days)per 100000 population  Cases(last 24 hours)  \\\n",
       "1                                     32.63                 22569   \n",
       "3                                    165.55                 54022   \n",
       "8                                    273.01                 19423   \n",
       "9                                    365.21                 24229   \n",
       "15                                    30.33                  8507   \n",
       "\n",
       "    Deaths(Cum.Total)  Deaths(Cum.Total) per 100000 population  \\\n",
       "1              601231                                   181.64   \n",
       "3              528540                                   248.66   \n",
       "8               97439                                   215.59   \n",
       "9              110578                                   217.32   \n",
       "15             234192                                   181.64   \n",
       "\n",
       "    Deaths - newly reported in last 7 days  \\\n",
       "1                                     1551   \n",
       "3                                    10474   \n",
       "8                                     3135   \n",
       "9                                     4034   \n",
       "15                                    1145   \n",
       "\n",
       "    Deaths(last 7 days)per 100000 population  Deaths(last 24 hours)  \\\n",
       "1                                       0.47                    301   \n",
       "3                                       4.93                   1648   \n",
       "8                                       6.94                    456   \n",
       "9                                       7.93                    559   \n",
       "15                                      0.89                    234   \n",
       "\n",
       "   Transmission Classification  \n",
       "1       Community transmission  \n",
       "3       Community transmission  \n",
       "8       Community transmission  \n",
       "9       Community transmission  \n",
       "15      Community transmission  "
      ]
     },
     "execution_count": 35,
     "metadata": {},
     "output_type": "execute_result"
    }
   ],
   "source": [
    "#preview first five rows of cleaned data\n",
    "new_df.head()"
   ]
  },
  {
   "cell_type": "code",
   "execution_count": 36,
   "id": "alike-topic",
   "metadata": {},
   "outputs": [
    {
     "data": {
      "text/html": [
       "<div>\n",
       "<style scoped>\n",
       "    .dataframe tbody tr th:only-of-type {\n",
       "        vertical-align: middle;\n",
       "    }\n",
       "\n",
       "    .dataframe tbody tr th {\n",
       "        vertical-align: top;\n",
       "    }\n",
       "\n",
       "    .dataframe thead th {\n",
       "        text-align: right;\n",
       "    }\n",
       "</style>\n",
       "<table border=\"1\" class=\"dataframe\">\n",
       "  <thead>\n",
       "    <tr style=\"text-align: right;\">\n",
       "      <th></th>\n",
       "      <th>Country</th>\n",
       "      <th>WHO Region</th>\n",
       "      <th>Cases(Cum.Total)</th>\n",
       "      <th>Cases(Cum.Total)per 100000 population</th>\n",
       "      <th>Cases(last 7 days)</th>\n",
       "      <th>Cases(last 7 days)per 100000 population</th>\n",
       "      <th>Cases(last 24 hours)</th>\n",
       "      <th>Deaths(Cum.Total)</th>\n",
       "      <th>Deaths(Cum.Total) per 100000 population</th>\n",
       "      <th>Deaths - newly reported in last 7 days</th>\n",
       "      <th>Deaths(last 7 days)per 100000 population</th>\n",
       "      <th>Deaths(last 24 hours)</th>\n",
       "      <th>Transmission Classification</th>\n",
       "    </tr>\n",
       "  </thead>\n",
       "  <tbody>\n",
       "    <tr>\n",
       "      <th>213</th>\n",
       "      <td>Falkland Islands (Malvinas)</td>\n",
       "      <td>Americas</td>\n",
       "      <td>60</td>\n",
       "      <td>1722.65</td>\n",
       "      <td>0</td>\n",
       "      <td>0.0</td>\n",
       "      <td>0</td>\n",
       "      <td>0</td>\n",
       "      <td>0.0</td>\n",
       "      <td>0</td>\n",
       "      <td>0.0</td>\n",
       "      <td>0</td>\n",
       "      <td>No cases</td>\n",
       "    </tr>\n",
       "    <tr>\n",
       "      <th>216</th>\n",
       "      <td>Saint Pierre and Miquelon</td>\n",
       "      <td>Americas</td>\n",
       "      <td>26</td>\n",
       "      <td>448.66</td>\n",
       "      <td>0</td>\n",
       "      <td>0.0</td>\n",
       "      <td>0</td>\n",
       "      <td>0</td>\n",
       "      <td>0.0</td>\n",
       "      <td>0</td>\n",
       "      <td>0.0</td>\n",
       "      <td>0</td>\n",
       "      <td>Sporadic cases</td>\n",
       "    </tr>\n",
       "    <tr>\n",
       "      <th>217</th>\n",
       "      <td>Montserrat</td>\n",
       "      <td>Americas</td>\n",
       "      <td>20</td>\n",
       "      <td>400.08</td>\n",
       "      <td>0</td>\n",
       "      <td>0.0</td>\n",
       "      <td>0</td>\n",
       "      <td>1</td>\n",
       "      <td>20.0</td>\n",
       "      <td>0</td>\n",
       "      <td>0.0</td>\n",
       "      <td>0</td>\n",
       "      <td>No cases</td>\n",
       "    </tr>\n",
       "    <tr>\n",
       "      <th>218</th>\n",
       "      <td>Sint Eustatius</td>\n",
       "      <td>Americas</td>\n",
       "      <td>20</td>\n",
       "      <td>637.15</td>\n",
       "      <td>0</td>\n",
       "      <td>0.0</td>\n",
       "      <td>0</td>\n",
       "      <td>0</td>\n",
       "      <td>0.0</td>\n",
       "      <td>0</td>\n",
       "      <td>0.0</td>\n",
       "      <td>0</td>\n",
       "      <td>No cases</td>\n",
       "    </tr>\n",
       "    <tr>\n",
       "      <th>220</th>\n",
       "      <td>Saba</td>\n",
       "      <td>Americas</td>\n",
       "      <td>7</td>\n",
       "      <td>362.13</td>\n",
       "      <td>0</td>\n",
       "      <td>0.0</td>\n",
       "      <td>0</td>\n",
       "      <td>0</td>\n",
       "      <td>0.0</td>\n",
       "      <td>0</td>\n",
       "      <td>0.0</td>\n",
       "      <td>0</td>\n",
       "      <td>No cases</td>\n",
       "    </tr>\n",
       "  </tbody>\n",
       "</table>\n",
       "</div>"
      ],
      "text/plain": [
       "                         Country WHO Region  Cases(Cum.Total)  \\\n",
       "213  Falkland Islands (Malvinas)   Americas                60   \n",
       "216    Saint Pierre and Miquelon   Americas                26   \n",
       "217                   Montserrat   Americas                20   \n",
       "218               Sint Eustatius   Americas                20   \n",
       "220                         Saba   Americas                 7   \n",
       "\n",
       "     Cases(Cum.Total)per 100000 population  Cases(last 7 days)  \\\n",
       "213                                1722.65                   0   \n",
       "216                                 448.66                   0   \n",
       "217                                 400.08                   0   \n",
       "218                                 637.15                   0   \n",
       "220                                 362.13                   0   \n",
       "\n",
       "     Cases(last 7 days)per 100000 population  Cases(last 24 hours)  \\\n",
       "213                                      0.0                     0   \n",
       "216                                      0.0                     0   \n",
       "217                                      0.0                     0   \n",
       "218                                      0.0                     0   \n",
       "220                                      0.0                     0   \n",
       "\n",
       "     Deaths(Cum.Total)  Deaths(Cum.Total) per 100000 population  \\\n",
       "213                  0                                      0.0   \n",
       "216                  0                                      0.0   \n",
       "217                  1                                     20.0   \n",
       "218                  0                                      0.0   \n",
       "220                  0                                      0.0   \n",
       "\n",
       "     Deaths - newly reported in last 7 days  \\\n",
       "213                                       0   \n",
       "216                                       0   \n",
       "217                                       0   \n",
       "218                                       0   \n",
       "220                                       0   \n",
       "\n",
       "     Deaths(last 7 days)per 100000 population  Deaths(last 24 hours)  \\\n",
       "213                                       0.0                      0   \n",
       "216                                       0.0                      0   \n",
       "217                                       0.0                      0   \n",
       "218                                       0.0                      0   \n",
       "220                                       0.0                      0   \n",
       "\n",
       "    Transmission Classification  \n",
       "213                    No cases  \n",
       "216              Sporadic cases  \n",
       "217                    No cases  \n",
       "218                    No cases  \n",
       "220                    No cases  "
      ]
     },
     "execution_count": 36,
     "metadata": {},
     "output_type": "execute_result"
    }
   ],
   "source": [
    "#preview last five rows of cleaned data\n",
    "new_df.tail()"
   ]
  },
  {
   "cell_type": "markdown",
   "id": "postal-entry",
   "metadata": {},
   "source": [
    "#    1. Descriptive statistics"
   ]
  },
  {
   "cell_type": "markdown",
   "id": "modified-catholic",
   "metadata": {},
   "source": [
    "<b>More information on the data set</b>"
   ]
  },
  {
   "cell_type": "code",
   "execution_count": 37,
   "id": "indoor-fraud",
   "metadata": {},
   "outputs": [
    {
     "name": "stdout",
     "output_type": "stream",
     "text": [
      "<class 'pandas.core.frame.DataFrame'>\n",
      "Int64Index: 56 entries, 1 to 220\n",
      "Data columns (total 13 columns):\n",
      " #   Column                                    Non-Null Count  Dtype  \n",
      "---  ------                                    --------------  -----  \n",
      " 0   Country                                   56 non-null     object \n",
      " 1   WHO Region                                56 non-null     object \n",
      " 2   Cases(Cum.Total)                          56 non-null     int64  \n",
      " 3   Cases(Cum.Total)per 100000 population     56 non-null     float64\n",
      " 4   Cases(last 7 days)                        56 non-null     int64  \n",
      " 5   Cases(last 7 days)per 100000 population   56 non-null     float64\n",
      " 6   Cases(last 24 hours)                      56 non-null     int64  \n",
      " 7   Deaths(Cum.Total)                         56 non-null     int64  \n",
      " 8   Deaths(Cum.Total) per 100000 population   56 non-null     float64\n",
      " 9   Deaths - newly reported in last 7 days    56 non-null     int64  \n",
      " 10  Deaths(last 7 days)per 100000 population  56 non-null     float64\n",
      " 11  Deaths(last 24 hours)                     56 non-null     int64  \n",
      " 12  Transmission Classification               56 non-null     object \n",
      "dtypes: float64(4), int64(6), object(3)\n",
      "memory usage: 6.1+ KB\n"
     ]
    }
   ],
   "source": [
    "new_df.info()"
   ]
  },
  {
   "cell_type": "markdown",
   "id": "capable-bride",
   "metadata": {},
   "source": [
    "Dataset has 56 rows & 13 columns, No columns has missing values, variables containing mainly figure values with three of 13 columns containing object/string values"
   ]
  },
  {
   "cell_type": "markdown",
   "id": "copyrighted-turtle",
   "metadata": {},
   "source": [
    "<b>American countries<b>"
   ]
  },
  {
   "cell_type": "code",
   "execution_count": 38,
   "id": "assigned-commitment",
   "metadata": {},
   "outputs": [
    {
     "data": {
      "text/html": [
       "<div>\n",
       "<style scoped>\n",
       "    .dataframe tbody tr th:only-of-type {\n",
       "        vertical-align: middle;\n",
       "    }\n",
       "\n",
       "    .dataframe tbody tr th {\n",
       "        vertical-align: top;\n",
       "    }\n",
       "\n",
       "    .dataframe thead th {\n",
       "        text-align: right;\n",
       "    }\n",
       "</style>\n",
       "<table border=\"1\" class=\"dataframe\">\n",
       "  <thead>\n",
       "    <tr style=\"text-align: right;\">\n",
       "      <th></th>\n",
       "      <th>WHO Region</th>\n",
       "    </tr>\n",
       "  </thead>\n",
       "  <tbody>\n",
       "    <tr>\n",
       "      <th>Americas</th>\n",
       "      <td>56</td>\n",
       "    </tr>\n",
       "  </tbody>\n",
       "</table>\n",
       "</div>"
      ],
      "text/plain": [
       "          WHO Region\n",
       "Americas          56"
      ]
     },
     "execution_count": 38,
     "metadata": {},
     "output_type": "execute_result"
    }
   ],
   "source": [
    "new_df['WHO Region'].value_counts().to_frame()"
   ]
  },
  {
   "cell_type": "markdown",
   "id": "invisible-biography",
   "metadata": {},
   "source": [
    "56 countries in America region"
   ]
  },
  {
   "cell_type": "markdown",
   "id": "realistic-notion",
   "metadata": {},
   "source": [
    "<b>Describing the dataset</b>"
   ]
  },
  {
   "cell_type": "code",
   "execution_count": 39,
   "id": "mental-purse",
   "metadata": {},
   "outputs": [
    {
     "data": {
      "text/html": [
       "<div>\n",
       "<style scoped>\n",
       "    .dataframe tbody tr th:only-of-type {\n",
       "        vertical-align: middle;\n",
       "    }\n",
       "\n",
       "    .dataframe tbody tr th {\n",
       "        vertical-align: top;\n",
       "    }\n",
       "\n",
       "    .dataframe thead th {\n",
       "        text-align: right;\n",
       "    }\n",
       "</style>\n",
       "<table border=\"1\" class=\"dataframe\">\n",
       "  <thead>\n",
       "    <tr style=\"text-align: right;\">\n",
       "      <th></th>\n",
       "      <th>Cases(Cum.Total)</th>\n",
       "      <th>Cases(Cum.Total)per 100000 population</th>\n",
       "      <th>Cases(last 7 days)</th>\n",
       "      <th>Cases(last 7 days)per 100000 population</th>\n",
       "      <th>Cases(last 24 hours)</th>\n",
       "      <th>Deaths(Cum.Total)</th>\n",
       "      <th>Deaths(Cum.Total) per 100000 population</th>\n",
       "      <th>Deaths - newly reported in last 7 days</th>\n",
       "      <th>Deaths(last 7 days)per 100000 population</th>\n",
       "      <th>Deaths(last 24 hours)</th>\n",
       "    </tr>\n",
       "  </thead>\n",
       "  <tbody>\n",
       "    <tr>\n",
       "      <th>count</th>\n",
       "      <td>5.600000e+01</td>\n",
       "      <td>56.000000</td>\n",
       "      <td>56.000000</td>\n",
       "      <td>56.000000</td>\n",
       "      <td>56.000000</td>\n",
       "      <td>56.000000</td>\n",
       "      <td>56.000000</td>\n",
       "      <td>56.000000</td>\n",
       "      <td>56.000000</td>\n",
       "      <td>56.000000</td>\n",
       "    </tr>\n",
       "    <tr>\n",
       "      <th>mean</th>\n",
       "      <td>1.311608e+06</td>\n",
       "      <td>4099.591964</td>\n",
       "      <td>17272.714286</td>\n",
       "      <td>90.348393</td>\n",
       "      <td>2733.410714</td>\n",
       "      <td>34481.214286</td>\n",
       "      <td>77.229286</td>\n",
       "      <td>451.392857</td>\n",
       "      <td>1.582500</td>\n",
       "      <td>70.035714</td>\n",
       "    </tr>\n",
       "    <tr>\n",
       "      <th>std</th>\n",
       "      <td>5.112890e+06</td>\n",
       "      <td>3312.030801</td>\n",
       "      <td>55956.745585</td>\n",
       "      <td>202.678019</td>\n",
       "      <td>8633.177160</td>\n",
       "      <td>112121.113116</td>\n",
       "      <td>95.639841</td>\n",
       "      <td>1547.820305</td>\n",
       "      <td>2.377306</td>\n",
       "      <td>240.557305</td>\n",
       "    </tr>\n",
       "    <tr>\n",
       "      <th>min</th>\n",
       "      <td>7.000000e+00</td>\n",
       "      <td>102.940000</td>\n",
       "      <td>0.000000</td>\n",
       "      <td>0.000000</td>\n",
       "      <td>-9.000000</td>\n",
       "      <td>0.000000</td>\n",
       "      <td>0.000000</td>\n",
       "      <td>0.000000</td>\n",
       "      <td>0.000000</td>\n",
       "      <td>0.000000</td>\n",
       "    </tr>\n",
       "    <tr>\n",
       "      <th>25%</th>\n",
       "      <td>2.086500e+03</td>\n",
       "      <td>1395.055000</td>\n",
       "      <td>10.750000</td>\n",
       "      <td>9.005000</td>\n",
       "      <td>0.000000</td>\n",
       "      <td>17.750000</td>\n",
       "      <td>11.247500</td>\n",
       "      <td>0.000000</td>\n",
       "      <td>0.000000</td>\n",
       "      <td>0.000000</td>\n",
       "    </tr>\n",
       "    <tr>\n",
       "      <th>50%</th>\n",
       "      <td>1.556400e+04</td>\n",
       "      <td>3181.080000</td>\n",
       "      <td>310.000000</td>\n",
       "      <td>33.020000</td>\n",
       "      <td>25.000000</td>\n",
       "      <td>261.000000</td>\n",
       "      <td>53.310000</td>\n",
       "      <td>3.500000</td>\n",
       "      <td>0.445000</td>\n",
       "      <td>0.000000</td>\n",
       "    </tr>\n",
       "    <tr>\n",
       "      <th>75%</th>\n",
       "      <td>3.425358e+05</td>\n",
       "      <td>6268.192500</td>\n",
       "      <td>7568.250000</td>\n",
       "      <td>92.862500</td>\n",
       "      <td>955.500000</td>\n",
       "      <td>5968.250000</td>\n",
       "      <td>93.797500</td>\n",
       "      <td>122.250000</td>\n",
       "      <td>1.912500</td>\n",
       "      <td>18.500000</td>\n",
       "    </tr>\n",
       "    <tr>\n",
       "      <th>max</th>\n",
       "      <td>3.345196e+07</td>\n",
       "      <td>10785.670000</td>\n",
       "      <td>351896.000000</td>\n",
       "      <td>1465.090000</td>\n",
       "      <td>54022.000000</td>\n",
       "      <td>601231.000000</td>\n",
       "      <td>587.600000</td>\n",
       "      <td>10474.000000</td>\n",
       "      <td>10.520000</td>\n",
       "      <td>1648.000000</td>\n",
       "    </tr>\n",
       "  </tbody>\n",
       "</table>\n",
       "</div>"
      ],
      "text/plain": [
       "       Cases(Cum.Total)  Cases(Cum.Total)per 100000 population  \\\n",
       "count      5.600000e+01                              56.000000   \n",
       "mean       1.311608e+06                            4099.591964   \n",
       "std        5.112890e+06                            3312.030801   \n",
       "min        7.000000e+00                             102.940000   \n",
       "25%        2.086500e+03                            1395.055000   \n",
       "50%        1.556400e+04                            3181.080000   \n",
       "75%        3.425358e+05                            6268.192500   \n",
       "max        3.345196e+07                           10785.670000   \n",
       "\n",
       "       Cases(last 7 days)  Cases(last 7 days)per 100000 population  \\\n",
       "count           56.000000                                56.000000   \n",
       "mean         17272.714286                                90.348393   \n",
       "std          55956.745585                               202.678019   \n",
       "min              0.000000                                 0.000000   \n",
       "25%             10.750000                                 9.005000   \n",
       "50%            310.000000                                33.020000   \n",
       "75%           7568.250000                                92.862500   \n",
       "max         351896.000000                              1465.090000   \n",
       "\n",
       "       Cases(last 24 hours)  Deaths(Cum.Total)  \\\n",
       "count             56.000000          56.000000   \n",
       "mean            2733.410714       34481.214286   \n",
       "std             8633.177160      112121.113116   \n",
       "min               -9.000000           0.000000   \n",
       "25%                0.000000          17.750000   \n",
       "50%               25.000000         261.000000   \n",
       "75%              955.500000        5968.250000   \n",
       "max            54022.000000      601231.000000   \n",
       "\n",
       "       Deaths(Cum.Total) per 100000 population  \\\n",
       "count                                56.000000   \n",
       "mean                                 77.229286   \n",
       "std                                  95.639841   \n",
       "min                                   0.000000   \n",
       "25%                                  11.247500   \n",
       "50%                                  53.310000   \n",
       "75%                                  93.797500   \n",
       "max                                 587.600000   \n",
       "\n",
       "       Deaths - newly reported in last 7 days  \\\n",
       "count                               56.000000   \n",
       "mean                               451.392857   \n",
       "std                               1547.820305   \n",
       "min                                  0.000000   \n",
       "25%                                  0.000000   \n",
       "50%                                  3.500000   \n",
       "75%                                122.250000   \n",
       "max                              10474.000000   \n",
       "\n",
       "       Deaths(last 7 days)per 100000 population  Deaths(last 24 hours)  \n",
       "count                                 56.000000              56.000000  \n",
       "mean                                   1.582500              70.035714  \n",
       "std                                    2.377306             240.557305  \n",
       "min                                    0.000000               0.000000  \n",
       "25%                                    0.000000               0.000000  \n",
       "50%                                    0.445000               0.000000  \n",
       "75%                                    1.912500              18.500000  \n",
       "max                                   10.520000            1648.000000  "
      ]
     },
     "execution_count": 39,
     "metadata": {},
     "output_type": "execute_result"
    }
   ],
   "source": [
    "new_df.describe()"
   ]
  },
  {
   "cell_type": "markdown",
   "id": "centered-shakespeare",
   "metadata": {},
   "source": [
    "<b>Transmission classification</b> "
   ]
  },
  {
   "cell_type": "code",
   "execution_count": 40,
   "id": "peaceful-sheriff",
   "metadata": {},
   "outputs": [
    {
     "data": {
      "text/html": [
       "<div>\n",
       "<style scoped>\n",
       "    .dataframe tbody tr th:only-of-type {\n",
       "        vertical-align: middle;\n",
       "    }\n",
       "\n",
       "    .dataframe tbody tr th {\n",
       "        vertical-align: top;\n",
       "    }\n",
       "\n",
       "    .dataframe thead th {\n",
       "        text-align: right;\n",
       "    }\n",
       "</style>\n",
       "<table border=\"1\" class=\"dataframe\">\n",
       "  <thead>\n",
       "    <tr style=\"text-align: right;\">\n",
       "      <th></th>\n",
       "      <th>Transmission Classification</th>\n",
       "    </tr>\n",
       "  </thead>\n",
       "  <tbody>\n",
       "    <tr>\n",
       "      <th>Community transmission</th>\n",
       "      <td>42</td>\n",
       "    </tr>\n",
       "    <tr>\n",
       "      <th>Sporadic cases</th>\n",
       "      <td>5</td>\n",
       "    </tr>\n",
       "    <tr>\n",
       "      <th>Clusters of cases</th>\n",
       "      <td>5</td>\n",
       "    </tr>\n",
       "    <tr>\n",
       "      <th>No cases</th>\n",
       "      <td>4</td>\n",
       "    </tr>\n",
       "  </tbody>\n",
       "</table>\n",
       "</div>"
      ],
      "text/plain": [
       "                        Transmission Classification\n",
       "Community transmission                           42\n",
       "Sporadic cases                                    5\n",
       "Clusters of cases                                 5\n",
       "No cases                                          4"
      ]
     },
     "execution_count": 40,
     "metadata": {},
     "output_type": "execute_result"
    }
   ],
   "source": [
    "new_df['Transmission Classification'].value_counts().to_frame()"
   ]
  },
  {
   "cell_type": "markdown",
   "id": "northern-wrapping",
   "metadata": {},
   "source": [
    "There are 42 community transmissions out of the total of 56 records."
   ]
  },
  {
   "cell_type": "markdown",
   "id": "atomic-syracuse",
   "metadata": {},
   "source": [
    "<b>Deaths in last 24 hours</b>"
   ]
  },
  {
   "cell_type": "code",
   "execution_count": 41,
   "id": "northern-brazilian",
   "metadata": {},
   "outputs": [
    {
     "data": {
      "text/html": [
       "<div>\n",
       "<style scoped>\n",
       "    .dataframe tbody tr th:only-of-type {\n",
       "        vertical-align: middle;\n",
       "    }\n",
       "\n",
       "    .dataframe tbody tr th {\n",
       "        vertical-align: top;\n",
       "    }\n",
       "\n",
       "    .dataframe thead th {\n",
       "        text-align: right;\n",
       "    }\n",
       "</style>\n",
       "<table border=\"1\" class=\"dataframe\">\n",
       "  <thead>\n",
       "    <tr style=\"text-align: right;\">\n",
       "      <th></th>\n",
       "      <th>Country</th>\n",
       "      <th>Deaths(last 24 hours)</th>\n",
       "    </tr>\n",
       "  </thead>\n",
       "  <tbody>\n",
       "    <tr>\n",
       "      <th>3</th>\n",
       "      <td>Brazil</td>\n",
       "      <td>1648</td>\n",
       "    </tr>\n",
       "    <tr>\n",
       "      <th>9</th>\n",
       "      <td>Colombia</td>\n",
       "      <td>559</td>\n",
       "    </tr>\n",
       "    <tr>\n",
       "      <th>8</th>\n",
       "      <td>Argentina</td>\n",
       "      <td>456</td>\n",
       "    </tr>\n",
       "    <tr>\n",
       "      <th>1</th>\n",
       "      <td>United States of America</td>\n",
       "      <td>301</td>\n",
       "    </tr>\n",
       "    <tr>\n",
       "      <th>15</th>\n",
       "      <td>Mexico</td>\n",
       "      <td>234</td>\n",
       "    </tr>\n",
       "  </tbody>\n",
       "</table>\n",
       "</div>"
      ],
      "text/plain": [
       "                     Country  Deaths(last 24 hours)\n",
       "3                     Brazil                   1648\n",
       "9                   Colombia                    559\n",
       "8                  Argentina                    456\n",
       "1   United States of America                    301\n",
       "15                    Mexico                    234"
      ]
     },
     "execution_count": 41,
     "metadata": {},
     "output_type": "execute_result"
    }
   ],
   "source": [
    "death_24hrs=new_df[['Country','Deaths(last 24 hours)']]\n",
    "highdeath_24hrs = death_24hrs.sort_values(by=['Deaths(last 24 hours)'], ascending= False)\n",
    "highdeath_24hrs.head()"
   ]
  },
  {
   "cell_type": "markdown",
   "id": "every-jackson",
   "metadata": {},
   "source": [
    "   Brazil reported 1,648 deaths, with Puerto Rico reporting just 1 in last 24hours as of WHO data report of July 10th 2021 at 6.11.42 PM"
   ]
  },
  {
   "cell_type": "markdown",
   "id": "historical-wealth",
   "metadata": {},
   "source": [
    "#    2. Simple Linear regression"
   ]
  },
  {
   "cell_type": "markdown",
   "id": "collective-mattress",
   "metadata": {},
   "source": [
    "   Takes the form; $$y=mx+c$$ $$y=dependent-variable, m=slope, x=independent-variable, c=y-intercept$$\n"
   ]
  },
  {
   "cell_type": "markdown",
   "id": "written-hayes",
   "metadata": {},
   "source": [
    "<b>Import model library</b>"
   ]
  },
  {
   "cell_type": "code",
   "execution_count": 42,
   "id": "seasonal-respect",
   "metadata": {},
   "outputs": [],
   "source": [
    "from sklearn.linear_model import LinearRegression "
   ]
  },
  {
   "cell_type": "markdown",
   "id": "sound-acceptance",
   "metadata": {},
   "source": [
    " <b>Fitting the model</b>"
   ]
  },
  {
   "cell_type": "code",
   "execution_count": 43,
   "id": "mounted-sight",
   "metadata": {},
   "outputs": [
    {
     "data": {
      "text/plain": [
       "LinearRegression()"
      ]
     },
     "execution_count": 43,
     "metadata": {},
     "output_type": "execute_result"
    }
   ],
   "source": [
    "x = new_df[['Cases(last 24 hours)']]\n",
    "y = new_df['Deaths(last 24 hours)'] \n",
    "lm = LinearRegression() \n",
    "lm.fit(x,y)\n",
    "lm"
   ]
  },
  {
   "cell_type": "markdown",
   "id": "moving-stress",
   "metadata": {},
   "source": [
    "<b>Finding intercept</b>"
   ]
  },
  {
   "cell_type": "code",
   "execution_count": 44,
   "id": "alpine-hungary",
   "metadata": {},
   "outputs": [
    {
     "data": {
      "text/plain": [
       "-4.010264462076975"
      ]
     },
     "execution_count": 44,
     "metadata": {},
     "output_type": "execute_result"
    }
   ],
   "source": [
    "lm.intercept_"
   ]
  },
  {
   "cell_type": "markdown",
   "id": "prescribed-advisory",
   "metadata": {},
   "source": [
    "<b>Finding slope/coefficient</b>"
   ]
  },
  {
   "cell_type": "code",
   "execution_count": 45,
   "id": "wrapped-wagon",
   "metadata": {},
   "outputs": [
    {
     "data": {
      "text/plain": [
       "array([0.02708923])"
      ]
     },
     "execution_count": 45,
     "metadata": {},
     "output_type": "execute_result"
    }
   ],
   "source": [
    "lm.coef_"
   ]
  },
  {
   "cell_type": "markdown",
   "id": "incoming-execution",
   "metadata": {},
   "source": [
    "# Model formular; \n",
    "$$Deaths(last 24 hours)= 0.02708923 * Cases(last 24 hours) - 4.010264462076975$$\n",
    "\n",
    "<b>As of July 10th 2021 at 6.11.42 PM PM</b> data by WHO. This model keeps changing as data is being updated daily"
   ]
  },
  {
   "cell_type": "markdown",
   "id": "adopted-involvement",
   "metadata": {},
   "source": [
    "<b>Correlation</b>"
   ]
  },
  {
   "cell_type": "code",
   "execution_count": 55,
   "id": "soviet-engineer",
   "metadata": {},
   "outputs": [
    {
     "data": {
      "text/html": [
       "<div>\n",
       "<style scoped>\n",
       "    .dataframe tbody tr th:only-of-type {\n",
       "        vertical-align: middle;\n",
       "    }\n",
       "\n",
       "    .dataframe tbody tr th {\n",
       "        vertical-align: top;\n",
       "    }\n",
       "\n",
       "    .dataframe thead th {\n",
       "        text-align: right;\n",
       "    }\n",
       "</style>\n",
       "<table border=\"1\" class=\"dataframe\">\n",
       "  <thead>\n",
       "    <tr style=\"text-align: right;\">\n",
       "      <th></th>\n",
       "      <th>Cases(last 24 hours)</th>\n",
       "      <th>Deaths(last 24 hours)</th>\n",
       "    </tr>\n",
       "  </thead>\n",
       "  <tbody>\n",
       "    <tr>\n",
       "      <th>Cases(last 24 hours)</th>\n",
       "      <td>1.000000</td>\n",
       "      <td>0.972184</td>\n",
       "    </tr>\n",
       "    <tr>\n",
       "      <th>Deaths(last 24 hours)</th>\n",
       "      <td>0.972184</td>\n",
       "      <td>1.000000</td>\n",
       "    </tr>\n",
       "  </tbody>\n",
       "</table>\n",
       "</div>"
      ],
      "text/plain": [
       "                       Cases(last 24 hours)  Deaths(last 24 hours)\n",
       "Cases(last 24 hours)               1.000000               0.972184\n",
       "Deaths(last 24 hours)              0.972184               1.000000"
      ]
     },
     "execution_count": 55,
     "metadata": {},
     "output_type": "execute_result"
    }
   ],
   "source": [
    "# cases in last 24hours vs death last 24hours\n",
    "new_df[['Cases(last 24 hours)','Deaths(last 24 hours)']].corr()"
   ]
  },
  {
   "cell_type": "markdown",
   "id": "consecutive-cleveland",
   "metadata": {},
   "source": [
    "Strong positve relationship <b>(0.972184)</b> between deaths reported in last 24 hours and cases reported in last 24 hours"
   ]
  },
  {
   "cell_type": "markdown",
   "id": "meaning-gallery",
   "metadata": {},
   "source": [
    "<b>simple linear regression graph</b>"
   ]
  },
  {
   "cell_type": "code",
   "execution_count": 16,
   "id": "ethical-series",
   "metadata": {},
   "outputs": [
    {
     "data": {
      "text/plain": [
       "(0.0, 1731.0354742631794)"
      ]
     },
     "execution_count": 16,
     "metadata": {},
     "output_type": "execute_result"
    },
    {
     "data": {
      "image/png": "[encoded data removed]",
      "text/plain": [
       "<Figure size 432x288 with 1 Axes>"
      ]
     },
     "metadata": {
      "needs_background": "light"
     },
     "output_type": "display_data"
    }
   ],
   "source": [
    "sns.regplot(x=\"Cases(last 24 hours)\", y=\"Deaths(last 24 hours)\", data=new_df)\n",
    "plt.ylim(0,)"
   ]
  },
  {
   "cell_type": "markdown",
   "id": "wired-anchor",
   "metadata": {},
   "source": [
    "As Cases reported in the last 24 hours increase, even death in the same period increase."
   ]
  },
  {
   "cell_type": "markdown",
   "id": "painted-forestry",
   "metadata": {},
   "source": [
    "<b>Box plot</b>"
   ]
  },
  {
   "cell_type": "code",
   "execution_count": 47,
   "id": "tough-radius",
   "metadata": {},
   "outputs": [
    {
     "data": {
      "text/plain": [
       "<AxesSubplot:xlabel='Transmission Classification', ylabel='Deaths(last 24 hours)'>"
      ]
     },
     "execution_count": 47,
     "metadata": {},
     "output_type": "execute_result"
    },
    {
     "data": {
      "image/png": "[encoded data removed]",
      "text/plain": [
       "<Figure size 432x288 with 1 Axes>"
      ]
     },
     "metadata": {
      "needs_background": "light"
     },
     "output_type": "display_data"
    }
   ],
   "source": [
    "#Deaths in last 24hours vs Transmission classification.\n",
    "sns.boxplot(x=\"Transmission Classification\", y=\"Deaths(last 24 hours)\", data=new_df)"
   ]
  },
  {
   "cell_type": "markdown",
   "id": "classified-kingston",
   "metadata": {},
   "source": [
    "Distribution of Deaths(cumu.Total) between cluster transmission and Community transmission, \n",
    "are distinct enough to take Transmission classification as a potential good predictor of Deaths reported in the last 24 hours)."
   ]
  },
  {
   "cell_type": "markdown",
   "id": "sunset-quest",
   "metadata": {},
   "source": [
    "# Evaluating the model"
   ]
  },
  {
   "cell_type": "markdown",
   "id": "peripheral-version",
   "metadata": {},
   "source": [
    "  <b>1. R-squared</b>"
   ]
  },
  {
   "cell_type": "code",
   "execution_count": 48,
   "id": "dependent-classic",
   "metadata": {},
   "outputs": [
    {
     "name": "stdout",
     "output_type": "stream",
     "text": [
      "The R-squared is:  0.9451426883656249\n"
     ]
    }
   ],
   "source": [
    "print('The R-squared is: ', lm.score(x, y))"
   ]
  },
  {
   "cell_type": "markdown",
   "id": "written-grain",
   "metadata": {},
   "source": [
    "  <b>2. Mean Squared Error</b>"
   ]
  },
  {
   "cell_type": "code",
   "execution_count": 49,
   "id": "boolean-saturday",
   "metadata": {},
   "outputs": [],
   "source": [
    "from sklearn.metrics import mean_squared_error #for calculating MSE\n",
    "from math import sqrt #for calculating RSME"
   ]
  },
  {
   "cell_type": "code",
   "execution_count": 50,
   "id": "assured-latitude",
   "metadata": {},
   "outputs": [
    {
     "name": "stdout",
     "output_type": "stream",
     "text": [
      "Mean Squared Error: 3117.7858489231335\n"
     ]
    }
   ],
   "source": [
    "y=lm.predict(x)\n",
    "mse = mean_squared_error(new_df['Deaths(last 24 hours)'], y)\n",
    "print('Mean Squared Error:', mse)"
   ]
  },
  {
   "cell_type": "markdown",
   "id": "cellular-barcelona",
   "metadata": {},
   "source": [
    " <b>3. Root Mean Squared Error</b>"
   ]
  },
  {
   "cell_type": "code",
   "execution_count": 51,
   "id": "decimal-repository",
   "metadata": {},
   "outputs": [
    {
     "name": "stdout",
     "output_type": "stream",
     "text": [
      "Root Mean Squared Error: 55.8371368259793\n"
     ]
    }
   ],
   "source": [
    "#since; mse=sqrt(mean_squared_error(new_df['Deaths(last 24 hours'], y))\n",
    "print('Root Mean Squared Error:',sqrt(mse))"
   ]
  },
  {
   "cell_type": "markdown",
   "id": "separate-sight",
   "metadata": {},
   "source": [
    "#    3. Multiple Linear Regression"
   ]
  },
  {
   "cell_type": "markdown",
   "id": "particular-blast",
   "metadata": {},
   "source": [
    "Predicting <b>Deaths(last 24 hours)</b> in America by looking at three variables; \n",
    "\n",
    "    1. Cases reported in the last 24 hours; Cases(last 24 hours)\n",
    "    2. Cases reported in the last 7 days; Cases(last 7 days) \n",
    "    3. Total cumulative Cases reported; Cases(Cum.Total)"
   ]
  },
  {
   "cell_type": "markdown",
   "id": "boxed-potato",
   "metadata": {},
   "source": [
    "Takes the form; $$𝑦=𝑏1𝑥1+𝑏2𝑥2+b3x3+𝑐$$ $$y=dependent-variable, b1,b2,b3=slope, x1,x2,x3=independent-variables, c=y-intercept$$"
   ]
  },
  {
   "cell_type": "markdown",
   "id": "arranged-raleigh",
   "metadata": {},
   "source": [
    "<b>Training & Fitting the model</b>"
   ]
  },
  {
   "cell_type": "code",
   "execution_count": 52,
   "id": "pregnant-giving",
   "metadata": {},
   "outputs": [
    {
     "data": {
      "text/plain": [
       "LinearRegression()"
      ]
     },
     "execution_count": 52,
     "metadata": {},
     "output_type": "execute_result"
    }
   ],
   "source": [
    "z = new_df[['Cases(last 24 hours)','Cases(last 7 days)','Cases(Cum.Total)']]\n",
    "lm.fit(z, new_df['Deaths(last 24 hours)'])"
   ]
  },
  {
   "cell_type": "markdown",
   "id": "parliamentary-mortgage",
   "metadata": {},
   "source": [
    "<b>Finding intercept</b>"
   ]
  },
  {
   "cell_type": "code",
   "execution_count": 53,
   "id": "foreign-kitchen",
   "metadata": {},
   "outputs": [
    {
     "data": {
      "text/plain": [
       "-3.152937889926207"
      ]
     },
     "execution_count": 53,
     "metadata": {},
     "output_type": "execute_result"
    }
   ],
   "source": [
    "lm.intercept_"
   ]
  },
  {
   "cell_type": "markdown",
   "id": "varied-hometown",
   "metadata": {},
   "source": [
    "<b>Finding slope/coefficient</b>"
   ]
  },
  {
   "cell_type": "code",
   "execution_count": 54,
   "id": "opposite-timothy",
   "metadata": {},
   "outputs": [
    {
     "data": {
      "text/plain": [
       "array([ 4.70509139e-02, -2.10651332e-03, -1.45131908e-05])"
      ]
     },
     "execution_count": 54,
     "metadata": {},
     "output_type": "execute_result"
    }
   ],
   "source": [
    "#coefficient values for b1,b2,b3\n",
    "lm.coef_"
   ]
  },
  {
   "cell_type": "markdown",
   "id": "incorporated-diana",
   "metadata": {},
   "source": [
    "# Model formular; \n",
    "$$Deaths(last 24 hours)= 4.70509139 * Cases(last 24 hours) - 2.10651332 * Cases(last 7 days) - 1.45131908 * Cases(Cum.Total) - 3.152937889926207 $$ \n",
    "\n",
    "<b>As of As at: July 10th 2021 at 6.11.42 PM</b> data by WHO. This model keeps changing as data is being updated daily"
   ]
  },
  {
   "cell_type": "code",
   "execution_count": 56,
   "id": "roman-vertex",
   "metadata": {},
   "outputs": [
    {
     "data": {
      "text/html": [
       "<div>\n",
       "<style scoped>\n",
       "    .dataframe tbody tr th:only-of-type {\n",
       "        vertical-align: middle;\n",
       "    }\n",
       "\n",
       "    .dataframe tbody tr th {\n",
       "        vertical-align: top;\n",
       "    }\n",
       "\n",
       "    .dataframe thead th {\n",
       "        text-align: right;\n",
       "    }\n",
       "</style>\n",
       "<table border=\"1\" class=\"dataframe\">\n",
       "  <thead>\n",
       "    <tr style=\"text-align: right;\">\n",
       "      <th></th>\n",
       "      <th>Cases(last 24 hours)</th>\n",
       "      <th>Cases(last 7 days)</th>\n",
       "      <th>Cases(Cum.Total)</th>\n",
       "    </tr>\n",
       "  </thead>\n",
       "  <tbody>\n",
       "    <tr>\n",
       "      <th>Cases(last 24 hours)</th>\n",
       "      <td>1.000000</td>\n",
       "      <td>0.992458</td>\n",
       "      <td>0.745889</td>\n",
       "    </tr>\n",
       "    <tr>\n",
       "      <th>Cases(last 7 days)</th>\n",
       "      <td>0.992458</td>\n",
       "      <td>1.000000</td>\n",
       "      <td>0.673512</td>\n",
       "    </tr>\n",
       "    <tr>\n",
       "      <th>Cases(Cum.Total)</th>\n",
       "      <td>0.745889</td>\n",
       "      <td>0.673512</td>\n",
       "      <td>1.000000</td>\n",
       "    </tr>\n",
       "  </tbody>\n",
       "</table>\n",
       "</div>"
      ],
      "text/plain": [
       "                      Cases(last 24 hours)  Cases(last 7 days)  \\\n",
       "Cases(last 24 hours)              1.000000            0.992458   \n",
       "Cases(last 7 days)                0.992458            1.000000   \n",
       "Cases(Cum.Total)                  0.745889            0.673512   \n",
       "\n",
       "                      Cases(Cum.Total)  \n",
       "Cases(last 24 hours)          0.745889  \n",
       "Cases(last 7 days)            0.673512  \n",
       "Cases(Cum.Total)              1.000000  "
      ]
     },
     "execution_count": 56,
     "metadata": {},
     "output_type": "execute_result"
    }
   ],
   "source": [
    "#correlation\n",
    "new_df[['Cases(last 24 hours)','Cases(last 7 days)','Cases(Cum.Total)']].corr()"
   ]
  },
  {
   "cell_type": "markdown",
   "id": "seasonal-catch",
   "metadata": {},
   "source": [
    "Cases reported in the last 24 hours and cases reported in the last 7 days are potential good predictors of deaths in the next 24 hours as indicated by the strong positive relationship <b>(0.992458)</b> between them. \n",
    "\n",
    "Cases reported in last 24 hours are equally related to the cummulative cases reported <b>(0.745889)</b> as far predicting death in the next 24 hours is concerned, but not as stronger as it in the first scenario."
   ]
  },
  {
   "cell_type": "markdown",
   "id": "digital-consolidation",
   "metadata": {},
   "source": [
    "# Evaluating the model"
   ]
  },
  {
   "cell_type": "markdown",
   "id": "universal-jumping",
   "metadata": {},
   "source": [
    "  <b>1. R-squared</b>"
   ]
  },
  {
   "cell_type": "code",
   "execution_count": 57,
   "id": "willing-uganda",
   "metadata": {},
   "outputs": [
    {
     "name": "stdout",
     "output_type": "stream",
     "text": [
      "The R-squared is: 0.9707863962523477\n"
     ]
    }
   ],
   "source": [
    "print('The R-squared is:',lm.score(z, new_df['Deaths(last 24 hours)']))"
   ]
  },
  {
   "cell_type": "markdown",
   "id": "pregnant-winter",
   "metadata": {},
   "source": [
    "  <b>2. Mean Squared Error</b>"
   ]
  },
  {
   "cell_type": "code",
   "execution_count": 58,
   "id": "similar-workplace",
   "metadata": {},
   "outputs": [
    {
     "name": "stdout",
     "output_type": "stream",
     "text": [
      "Mean Squared Error: 1660.3394815906993\n"
     ]
    }
   ],
   "source": [
    "#Calculating the Mean Squared Error; MSE\n",
    "#prediction based on our model\n",
    "y_predict_multifit = lm.predict(z)\n",
    "#Now we can compare the predicted results with the actual results and print\n",
    "mse=mean_squared_error(new_df['Deaths(last 24 hours)'], y_predict_multifit)\n",
    "print('Mean Squared Error:',mse)\n"
   ]
  },
  {
   "cell_type": "markdown",
   "id": "ethical-attack",
   "metadata": {},
   "source": [
    " <b>3. Root Mean Squared Error</b>"
   ]
  },
  {
   "cell_type": "code",
   "execution_count": 59,
   "id": "english-claim",
   "metadata": {},
   "outputs": [
    {
     "name": "stdout",
     "output_type": "stream",
     "text": [
      "Root Mean Squared Error: 40.74726348591644\n"
     ]
    }
   ],
   "source": [
    "#since mse=mean_squared_error(new_df['Deaths(last 24 hours)'], y_predict_multifit), we call mse\n",
    "print('Root Mean Squared Error:',sqrt(mse))"
   ]
  },
  {
   "cell_type": "markdown",
   "id": "peaceful-walker",
   "metadata": {},
   "source": [
    "# Summary in table format"
   ]
  },
  {
   "cell_type": "markdown",
   "id": "loving-appliance",
   "metadata": {},
   "source": [
    "<b>Import table reading libraries</b>"
   ]
  },
  {
   "cell_type": "code",
   "execution_count": 60,
   "id": "joint-messenger",
   "metadata": {},
   "outputs": [
    {
     "name": "stdout",
     "output_type": "stream",
     "text": [
      "Requirement already satisfied: tabulate in /srv/conda/envs/notebook/lib/python3.6/site-packages (0.8.9)\r\n"
     ]
    }
   ],
   "source": [
    "!pip install tabulate\n",
    "from tabulate import tabulate"
   ]
  },
  {
   "cell_type": "markdown",
   "id": "official-straight",
   "metadata": {},
   "source": [
    "<b>Summarising modules in a table</b>"
   ]
  },
  {
   "cell_type": "code",
   "execution_count": 61,
   "id": "adopted-stranger",
   "metadata": {},
   "outputs": [
    {
     "name": "stdout",
     "output_type": "stream",
     "text": [
      "Model vs Performance.metric      R-Squared      MSE     RMSE\n",
      "-----------------------------  -----------  -------  -------\n",
      "Simple Linear Regression          0.945143  3117.79  55.8371\n",
      "Multiple Linear regression        0.970786  1660.34  40.7473\n"
     ]
    }
   ],
   "source": [
    "table = [['Model vs Performance.metric','R-Squared', 'MSE', 'RMSE'], ['Simple Linear Regression', \n",
    "                                                                      0.9451426883656249, 3117.7858489231335,55.8371368259793],\n",
    "         ['Multiple Linear regression', 0.9707863962523477, 1660.3394815906993,40.74726348591644]]\n",
    "print(tabulate(table, headers='firstrow'))"
   ]
  },
  {
   "cell_type": "markdown",
   "id": "vocal-discount",
   "metadata": {},
   "source": [
    "<b>Decision making;</b>\n",
    "\n",
    "A model with a a high R-squared and low RMSE is the best.\n",
    "\n",
    "From the table above, comparing the two models; <b>Multiple Linear Regression Model is the best </b>because it has an accuracy (R-Squared) percenatge of approximately <b>97.07%</b>\n",
    "with a low RSME of approximately <b>40.7473<b/>"
   ]
  },
  {
   "cell_type": "markdown",
   "id": "creative-jason",
   "metadata": {},
   "source": [
    "<b>Therefore,</b>\n",
    "The model for predicting Covid_19 daily deaths in America is;\n",
    "\n",
    "$$Deaths(last 24 hours)= 4.70509139 * Cases(last 24 hours) - 2.10651332 * Cases(last 7 days) - 1.45131908 * Cases(Cum.Total) - 3.152937889926207 $$ \n",
    "\n",
    "<b>As of July 9th 2021 at 4.01.45 PM</b> data by WHO. This model keeps changing as data is being updated daily"
   ]
  },
  {
   "cell_type": "markdown",
   "id": "threatened-looking",
   "metadata": {},
   "source": [
    "# End\n",
    "Author;\n",
    "Isaac Etungu"
   ]
  },
  {
   "cell_type": "code",
   "execution_count": null,
   "id": "renewable-gathering",
   "metadata": {},
   "outputs": [],
   "source": []
  }
 ],
 "metadata": {
  "kernelspec": {
   "display_name": "Python 3",
   "language": "python",
   "name": "python3"
  },
  "language_info": {
   "codemirror_mode": {
    "name": "ipython",
    "version": 3
   },
   "file_extension": ".py",
   "mimetype": "text/x-python",
   "name": "python",
   "nbconvert_exporter": "python",
   "pygments_lexer": "ipython3",
   "version": "3.6.13"
  }
 },
 "nbformat": 4,
 "nbformat_minor": 5
}
